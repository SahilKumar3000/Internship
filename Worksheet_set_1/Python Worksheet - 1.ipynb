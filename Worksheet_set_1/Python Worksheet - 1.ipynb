{
 "cells": [
  {
   "cell_type": "markdown",
   "id": "d213bf1b",
   "metadata": {},
   "source": [
    "## Python Worksheet"
   ]
  },
  {
   "cell_type": "markdown",
   "id": "8bd1e58f",
   "metadata": {},
   "source": [
    "**1. Which of the following operators is used to calculate remainder in a division?**\n",
    "\n",
    "`Answer: (C) %`"
   ]
  },
  {
   "cell_type": "markdown",
   "id": "ddea5bb1",
   "metadata": {},
   "source": [
    "**2. In python, 2//3 is equal to?**"
   ]
  },
  {
   "cell_type": "code",
   "execution_count": 1,
   "id": "e5d0abf1",
   "metadata": {},
   "outputs": [
    {
     "data": {
      "text/plain": [
       "0"
      ]
     },
     "execution_count": 1,
     "metadata": {},
     "output_type": "execute_result"
    }
   ],
   "source": [
    "2//3"
   ]
  },
  {
   "cell_type": "markdown",
   "id": "0b0a1f98",
   "metadata": {},
   "source": [
    "`Answer: (B) 0`"
   ]
  },
  {
   "cell_type": "markdown",
   "id": "2e09bde8",
   "metadata": {},
   "source": [
    "**3. In python, 6<<2 is equal to?**"
   ]
  },
  {
   "cell_type": "code",
   "execution_count": 2,
   "id": "0b2dee66",
   "metadata": {},
   "outputs": [
    {
     "data": {
      "text/plain": [
       "24"
      ]
     },
     "execution_count": 2,
     "metadata": {},
     "output_type": "execute_result"
    }
   ],
   "source": [
    "6<<2"
   ]
  },
  {
   "cell_type": "markdown",
   "id": "a09bcd96",
   "metadata": {},
   "source": [
    "`Answer: (C) 24`"
   ]
  },
  {
   "cell_type": "markdown",
   "id": "8e838d29",
   "metadata": {},
   "source": [
    "**4. In python, 6&2 will give which of the following as output?**"
   ]
  },
  {
   "cell_type": "code",
   "execution_count": 3,
   "id": "2d887623",
   "metadata": {},
   "outputs": [
    {
     "data": {
      "text/plain": [
       "2"
      ]
     },
     "execution_count": 3,
     "metadata": {},
     "output_type": "execute_result"
    }
   ],
   "source": [
    "6&2"
   ]
  },
  {
   "cell_type": "markdown",
   "id": "13e04b1e",
   "metadata": {},
   "source": [
    "`Answer: (A) 2`"
   ]
  },
  {
   "cell_type": "markdown",
   "id": "ffb78042",
   "metadata": {},
   "source": [
    "**5. In python, 6|2 will give which of the following as output?**"
   ]
  },
  {
   "cell_type": "code",
   "execution_count": 4,
   "id": "acbcbc30",
   "metadata": {},
   "outputs": [
    {
     "data": {
      "text/plain": [
       "6"
      ]
     },
     "execution_count": 4,
     "metadata": {},
     "output_type": "execute_result"
    }
   ],
   "source": [
    "6|2"
   ]
  },
  {
   "cell_type": "markdown",
   "id": "831764c9",
   "metadata": {},
   "source": [
    "`Answer: (D) 6`"
   ]
  },
  {
   "cell_type": "markdown",
   "id": "a6c32941",
   "metadata": {},
   "source": [
    "**6. What does the finally keyword denote in python?**"
   ]
  },
  {
   "cell_type": "markdown",
   "id": "d3c563b3",
   "metadata": {},
   "source": [
    "`Answer: (C) the finally block will be executed no matter if the try block raises an error or not.`"
   ]
  },
  {
   "cell_type": "markdown",
   "id": "5a09da35",
   "metadata": {},
   "source": [
    "**7. What does raise keyword is used for in python?**"
   ]
  },
  {
   "cell_type": "markdown",
   "id": "937be902",
   "metadata": {},
   "source": [
    "`Answer: (A) it is used to raise an exception.`"
   ]
  },
  {
   "cell_type": "markdown",
   "id": "9ee28071",
   "metadata": {},
   "source": [
    "**8. Which of the following is a common use case of yield keyword in python?**"
   ]
  },
  {
   "cell_type": "markdown",
   "id": "5a5be21a",
   "metadata": {},
   "source": [
    "`Answer: (C) in defining a generator`"
   ]
  },
  {
   "cell_type": "markdown",
   "id": "5e59a050",
   "metadata": {},
   "source": [
    "**9. Which of the following are valid variable names?**"
   ]
  },
  {
   "cell_type": "markdown",
   "id": "886cc887",
   "metadata": {},
   "source": [
    "`Answer: (A) _abc       (C) abc2`"
   ]
  },
  {
   "cell_type": "markdown",
   "id": "018ad17e",
   "metadata": {},
   "source": [
    "**10. Which of the following are the keywords in python?**"
   ]
  },
  {
   "cell_type": "markdown",
   "id": "a82d18cb",
   "metadata": {},
   "source": [
    "`Answer: (A) yield      (B) raise`"
   ]
  },
  {
   "cell_type": "markdown",
   "id": "4d9fd542",
   "metadata": {},
   "source": [
    "**11. Write a python program to find the factorial of a number**"
   ]
  },
  {
   "cell_type": "code",
   "execution_count": 25,
   "id": "ea1557b2",
   "metadata": {},
   "outputs": [
    {
     "name": "stdout",
     "output_type": "stream",
     "text": [
      "Enter a number to find its factorial: 8\n",
      "Factorial of  8 : 40320\n"
     ]
    }
   ],
   "source": [
    "q11 = int(input(\"Enter a number to find its factorial: \"))\n",
    "\n",
    "factorial = 1\n",
    "\n",
    "if q11<0:\n",
    "    print(\"Factorial for negative numbers is not defined\")\n",
    "elif q11 == 0:\n",
    "    print(\"Factorial of 0 is 1\")\n",
    "else:\n",
    "    for i in range (1, q11+1):\n",
    "        factorial = factorial * i\n",
    "    print(\"Factorial of \", q11, \":\", factorial)"
   ]
  },
  {
   "cell_type": "markdown",
   "id": "6c775e69",
   "metadata": {},
   "source": [
    "**12. Write a python program to find whether a number is prime or composite**"
   ]
  },
  {
   "cell_type": "code",
   "execution_count": 30,
   "id": "d7a6294c",
   "metadata": {},
   "outputs": [
    {
     "name": "stdout",
     "output_type": "stream",
     "text": [
      "Enter a positive number:29\n",
      "29  is a prime number\n"
     ]
    }
   ],
   "source": [
    "q12 = int(input(\"Enter a positive number:\"))\n",
    "if(q12 == 0 or q12 == 1):\n",
    "    print(q12, \"is neither prime nor composite\")\n",
    "elif q12 > 1 :\n",
    "    for i in range(2,q12):\n",
    "        if(q12%i == 0):\n",
    "            print(q12,\" is a composite number\")\n",
    "            break\n",
    "    else:\n",
    "        print(q12,\" is a prime number\")\n",
    "else :\n",
    "    print(\"You have entered a negative number. Please try again \")"
   ]
  },
  {
   "cell_type": "markdown",
   "id": "77c815ea",
   "metadata": {},
   "source": [
    "**13. Write a python program to check whether a given string is palindrome or not**"
   ]
  },
  {
   "cell_type": "code",
   "execution_count": 29,
   "id": "1dc20804",
   "metadata": {},
   "outputs": [
    {
     "name": "stdout",
     "output_type": "stream",
     "text": [
      "Enter a string to check apple\n",
      "The string is not a palindrome.\n"
     ]
    }
   ],
   "source": [
    "q13_input = str(input(\"Enter a string to check \"))\n",
    "\n",
    "q13_check = reversed(q13_input)\n",
    "\n",
    "if list(q13_input) == list(q13_check):\n",
    "   print(\"The string is a palindrome.\")\n",
    "else:\n",
    "   print(\"The string is not a palindrome.\")"
   ]
  },
  {
   "cell_type": "markdown",
   "id": "6f7bb3d1",
   "metadata": {},
   "source": [
    "**14. Write a python program to get the third side of a right-angled triangle from two given sides**"
   ]
  },
  {
   "cell_type": "code",
   "execution_count": 61,
   "id": "722d402f",
   "metadata": {},
   "outputs": [
    {
     "name": "stdout",
     "output_type": "stream",
     "text": [
      "\u001b[1mImportant Instruction: Please enter 0 for the length of side that you need to find out\u001b[0m\n",
      "Please enter the length of side 1 adjacent to the right angle: 3\n",
      "Please enter the length of side 2 adjacent to the right angle: 4\n",
      "Please enter the length of hypotenuse: 0\n",
      "The length of the hypotenuse is  5.0\n"
     ]
    }
   ],
   "source": [
    "import numpy as np\n",
    "\n",
    "print(\"\\033[1mImportant Instruction: Please enter 0 for the length of side that you need to find out\\033[0m\")\n",
    "\n",
    "q14_side1 = int(input(\"Please enter the length of side 1 adjacent to the right angle: \"))\n",
    "\n",
    "q14_side2 = int(input(\"Please enter the length of side 2 adjacent to the right angle: \"))\n",
    "\n",
    "q14_side3 = int(input(\"Please enter the length of hypotenuse: \"))\n",
    "\n",
    "if q14_side3 == 0 and q14_side1>0 and q14_side2>0:\n",
    "    q14_side3 = np.sqrt(np.square(q14_side1) + np.square(q14_side2))\n",
    "    print(\"The length of the hypotenuse is \",q14_side3)\n",
    "    \n",
    "elif q14_side3 > 0 and  q14_side1 == 0 and q14_side2 > 0:\n",
    "    q14_side1 = np.sqrt(np.square(q14_side3) - np.square(q14_side2))\n",
    "    print(\"The length of the missing side is \",q14_side1)\n",
    "    \n",
    "elif q14_side3 > 0 and  q14_side1 > 0 and q14_side2 == 0:\n",
    "    q14_side2 = np.sqrt(np.square(q14_side3) - np.square(q14_side1))\n",
    "    print(\"The length of the missing side is \",q14_side2)\n",
    "          \n",
    "else:\n",
    "    print(\"\\033[1mError\\033[0m: please re-check the values of length of sides that you have entered\")"
   ]
  },
  {
   "cell_type": "markdown",
   "id": "900cba4b",
   "metadata": {},
   "source": [
    "**15. Write a python program to print the frequency of each of the characters present in a given string**"
   ]
  },
  {
   "cell_type": "code",
   "execution_count": 69,
   "id": "4127bc56",
   "metadata": {},
   "outputs": [],
   "source": [
    "import pandas as pd"
   ]
  },
  {
   "cell_type": "code",
   "execution_count": 84,
   "id": "da068a29",
   "metadata": {},
   "outputs": [
    {
     "name": "stdout",
     "output_type": "stream",
     "text": [
      "Please enter the string for which you need the frequency of each of its characters: apple\n",
      "\n",
      "The string you have entered is: apple\n",
      "\n",
      "Frequency of each character in apple is\n",
      " {'a': 1, 'p': 2, 'l': 1, 'e': 1} \n",
      "\n",
      "Here is a frequency tabel for your convenience:\n",
      "    0\n",
      "a  1\n",
      "p  2\n",
      "l  1\n",
      "e  1\n"
     ]
    }
   ],
   "source": [
    "q15 = str(input(\"Please enter the string for which you need the frequency of each of its characters: \"))\n",
    "print(\"\\nThe string you have entered is:\",q15)\n",
    "\n",
    "freq_dict = {}\n",
    "\n",
    "for keys in q15:\n",
    "    freq_dict[keys] = freq_dict.get(keys, 0) + 1\n",
    "\n",
    "print(\"\\nFrequency of each character in\",q15,\"is\\n\",freq_dict,\"\\n\")\n",
    "\n",
    "df = pd.DataFrame.from_dict(freq_dict, orient = 'index')\n",
    "\n",
    "print(\"Here is a frequency tabel for your convenience:\\n\", df)"
   ]
  },
  {
   "cell_type": "code",
   "execution_count": null,
   "id": "e412a701",
   "metadata": {},
   "outputs": [],
   "source": []
  }
 ],
 "metadata": {
  "kernelspec": {
   "display_name": "Python 3",
   "language": "python",
   "name": "python3"
  },
  "language_info": {
   "codemirror_mode": {
    "name": "ipython",
    "version": 3
   },
   "file_extension": ".py",
   "mimetype": "text/x-python",
   "name": "python",
   "nbconvert_exporter": "python",
   "pygments_lexer": "ipython3",
   "version": "3.8.8"
  }
 },
 "nbformat": 4,
 "nbformat_minor": 5
}
